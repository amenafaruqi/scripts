{
 "cells": [
  {
   "cell_type": "code",
   "execution_count": 10,
   "id": "baa06608",
   "metadata": {},
   "outputs": [],
   "source": [
    "import rebound\n",
    "import numpy as np\n",
    "import matplotlib.pyplot as plt\n",
    "from astropy import time\n",
    "\n",
    "%matplotlib inline"
   ]
  },
  {
   "cell_type": "code",
   "execution_count": 11,
   "id": "f671f552",
   "metadata": {},
   "outputs": [],
   "source": [
    "# Binary parameters (Zuniga-Fernandez et al. 2021)\n",
    "\n",
    "t_ref = time.Time(2023, format='decimalyear').mjd   # t_ref = T0_AB \n",
    "\n",
    "fA_i = 0.87 + 0.13                     # incident flux\n",
    "\n",
    "e_B = 0.805\n",
    "i_B = np.radians(66.3)\n",
    "a_B = 1.01\n",
    "m_Ba = 0.77\n",
    "m_Bb = 0.62\n",
    "omega_Ba = np.radians(104.5)\n",
    "omega_Bb = omega_Ba - np.pi\n",
    "Omega_B = np.radians(342.7)\n",
    "T0_B = 48707.5\n",
    "P_B = 314.86\n",
    "mean_B = (2*np.pi*((t_ref - T0_B)/P_B))%(2*np.pi)\n",
    "flux_ratio_B = 70\n",
    "\n",
    "e_A = 0.4808\n",
    "i_A = np.radians(135.6)\n",
    "a_A = 0.86\n",
    "m_Aa = 0.93\n",
    "m_Ab = 0.29\n",
    "omega_Aa = np.radians(68.7)\n",
    "omega_Ab = omega_Aa - np.pi\n",
    "Omega_A = np.radians(170.2)\n",
    "T0_A = 48742.5\n",
    "P_A = 264.51\n",
    "mean_A = (2*np.pi*((t_ref - T0_A)/P_A))%(2*np.pi)\n",
    "flux_ratio_A = 15\n",
    "\n",
    "e_AB = 0.46\n",
    "i_AB = np.radians(88.1)\n",
    "a_AB = 51\n",
    "m_A = 1.1\n",
    "m_B = 1.4\n",
    "omega_A = np.radians(65)\n",
    "omega_B = omega_A - np.pi\n",
    "Omega_AB = np.radians(184.5)\n",
    "T0_AB = 2023\n",
    "P_AB = 230\n",
    "mean_AB = 0\n",
    "\n",
    "\n",
    "# Disk parameters (Kennedy et al. 2019)\n",
    "\n",
    "a_inner = 2.5\n",
    "a_outer = 4.6\n",
    "e_disk = 0.03\n",
    "pos_disk = np.radians(15.6)         # Omega\n",
    "inc_disk = np.radians(26)\n",
    "omega_disk = np.radians(-73)\n",
    "b_inner = a_inner*np.cos(inc_disk)*(1-e_disk**2)**0.5\n",
    "b_outer = a_outer*np.cos(inc_disk)*(1-e_disk**2)**0.5\n"
   ]
  },
  {
   "cell_type": "code",
   "execution_count": 12,
   "id": "7876e075",
   "metadata": {},
   "outputs": [],
   "source": [
    "def convmf(m_in, e_in):\n",
    "    \"\"\"Convert array of mean to true anomaly (for single e).\n",
    "        \n",
    "    From Vallado\n",
    "    \n",
    "    .. todo: tidy and include other orbit cases\n",
    "    \"\"\"\n",
    "    \n",
    "    m = np.array(m_in % (2. * np.pi))\n",
    "    numiter = 50\n",
    "    small = 0.00000001\n",
    "    if e_in > small:\n",
    "        \n",
    "        ecc = np.array(e_in * 1.0)\n",
    "        \n",
    "        #       ;; /* ------------  initial guess ------------- */\n",
    "        e0 = np.array(m + ecc)\n",
    "        lo = np.logical_or( (m < 0.0) & (m > -np.pi), m > np.pi)\n",
    "        e0[lo] = m[lo] - ecc\n",
    "        \n",
    "        ktr = 1\n",
    "        e1  = np.array(e0 + (m - e0 + ecc * np.sin(e0)) / (1.0 - ecc * np.cos(e0)))\n",
    "        while (np.max(np.abs(e1 - e0)) > small) & (ktr <= numiter):\n",
    "            ktr += 1\n",
    "            do = np.abs(e1 - e0) > small\n",
    "            e0[do] = e1[do]\n",
    "            e1[do] = e0[do] + (m[do] - e0[do] + ecc * np.sin(e0[do])) / (1.0 - ecc * np.cos(e0[do]))\n",
    "        \n",
    "        #       ;; /* ---------  find true anomaly  ----------- */\n",
    "        sinv = (np.sqrt(1.0 - ecc * ecc) * np.sin(e1)) / (1.0-ecc * np.cos(e1))\n",
    "        cosv = (np.cos(e1) - ecc) / (1.0 - ecc * np.cos(e1))\n",
    "        nu   = np.arctan2( sinv, cosv)\n",
    "    \n",
    "    else:\n",
    "        #       ;; /* --------------------- circular --------------------- */\n",
    "        ktr = 0\n",
    "        nu  = m\n",
    "        e0  = m\n",
    "\n",
    "    if ktr > numiter:\n",
    "        print('WARNING: convmf did not converge')\n",
    "    \n",
    "    return nu\n",
    "\n",
    "anom_A = convmf(mean_A, e_A)\n",
    "anom_B = convmf(mean_B, e_B)\n",
    "anom_AB  = convmf(mean_AB, e_AB)\n"
   ]
  },
  {
   "cell_type": "code",
   "execution_count": 13,
   "id": "1c526369",
   "metadata": {},
   "outputs": [
    {
     "name": "stdout",
     "output_type": "stream",
     "text": [
      "157.706322184098\n",
      "-166.60030265538973\n",
      "2.903104364469517e-31\n"
     ]
    }
   ],
   "source": [
    "print(np.degrees(anom_A))\n",
    "print(np.degrees(anom_B))\n",
    "print(np.degrees(anom_AB))"
   ]
  },
  {
   "cell_type": "code",
   "execution_count": 5,
   "id": "2e5c7230",
   "metadata": {},
   "outputs": [],
   "source": [
    "# Build disk\n",
    "\n",
    "angles = np.linspace(0, 2*np.pi, 100)\n",
    "\n",
    "x_outer = a_outer*np.cos(angles)\n",
    "y_outer = b_outer*np.sin(angles)\n",
    "z_outer = x_outer*np.tan(inc_disk)\n",
    "\n",
    "x_inner = a_inner*np.cos(angles)\n",
    "y_inner = b_inner*np.sin(angles)\n",
    "z_inner = x_inner*np.tan(inc_disk)\n",
    "\n",
    "# Rotate disk\n",
    "x_o = x_outer*np.cos(pos_disk) - y_outer*np.sin(pos_disk)\n",
    "y_o = x_outer*np.sin(pos_disk) + y_outer*np.cos(pos_disk)\n",
    "x_i = x_inner*np.cos(pos_disk) - y_inner*np.sin(pos_disk)\n",
    "y_i = x_inner*np.sin(pos_disk) + y_inner*np.cos(pos_disk)\n",
    "\n",
    "x_inner = x_i\n",
    "y_inner = y_i\n",
    "x_outer = x_o\n",
    "y_outer = y_o"
   ]
  },
  {
   "cell_type": "code",
   "execution_count": 6,
   "id": "d7b1cf36",
   "metadata": {},
   "outputs": [],
   "source": [
    "# Create 3 star system - Ba + Bb + A\n",
    "\n",
    "# Create system B (Ba + Bb)\n",
    "\n",
    "sim = rebound.Simulation()\n",
    "sim.units = ('days', 'AU', 'Msun')\n",
    "sim.move_to_hel()\n",
    "\n",
    "Ba = rebound.Particle(simulation=sim,\n",
    "                      m=m_Ba,\n",
    "                     )\n",
    "\n",
    "\n",
    "Bb = rebound.Particle(simulation=sim,\n",
    "                      primary=Ba,\n",
    "                      m=m_Bb,\n",
    "                      a=a_B,\n",
    "                      e=e_B,\n",
    "                      omega=omega_Bb,\n",
    "                      inc=i_B,\n",
    "                      Omega=Omega_B\n",
    "                     )\n",
    "\n",
    "\n",
    "\n",
    "sim.add(Ba)\n",
    "sim.add(Bb)\n",
    "sim.move_to_com()\n",
    "Ba, Bb = sim.particles\n",
    "\n",
    "\n",
    "# Create AaAb as a single object representing the CoM of AaAb relative to the CoM of BaBb\n",
    "\n",
    "A = rebound.Particle(simulation=sim,\n",
    "                     m=m_A,\n",
    "                     a=a_AB,\n",
    "                     e=e_AB,\n",
    "                     omega=omega_A,\n",
    "                     inc=i_AB,\n",
    "                     Omega=Omega_AB\n",
    "                    )\n",
    "\n",
    "\n",
    "sim.add(A)\n",
    "\n"
   ]
  },
  {
   "cell_type": "code",
   "execution_count": 7,
   "id": "cab3308b",
   "metadata": {},
   "outputs": [
    {
     "name": "stdout",
     "output_type": "stream",
     "text": [
      "-0.026133697316346557 0.005253044395554833 -0.0062785803468547565\n"
     ]
    }
   ],
   "source": [
    "print(Ba.vx, Ba.vy, Ba.vz)"
   ]
  },
  {
   "cell_type": "code",
   "execution_count": 8,
   "id": "fbb7722b",
   "metadata": {},
   "outputs": [
    {
     "name": "stdout",
     "output_type": "stream",
     "text": [
      "0.03245636602191427 -0.006523942233189069 0.00779759172109381\n"
     ]
    }
   ],
   "source": [
    "print(Bb.vx, Bb.vy, Bb.vz)"
   ]
  },
  {
   "cell_type": "code",
   "execution_count": 9,
   "id": "d454c096",
   "metadata": {},
   "outputs": [],
   "source": [
    "# Plot orbits\n",
    "\n",
    "start_time = 0\n",
    "t_max = 18*365.25 + start_time   # integrate over 18 years\n",
    "n_steps = int(1e4)\n",
    "times = np.linspace(start_time, t_max, n_steps)\n",
    "\n",
    "# Initialise arrays for the orbital parameters of the four stars\n",
    "\n",
    "x_A, y_A, z_A = np.zeros(n_steps), np.zeros(n_steps), np.zeros(n_steps)  \n",
    "x_Ba, y_Ba, z_Ba = np.zeros(n_steps), np.zeros(n_steps), np.zeros(n_steps)\n",
    "x_Bb, y_Bb, z_Bb = np.zeros(n_steps), np.zeros(n_steps), np.zeros(n_steps)\n",
    "\n",
    "\n",
    "vx_A, vy_A, vz_A = np.zeros(n_steps), np.zeros(n_steps), np.zeros(n_steps)\n",
    "vx_Ba, vy_Ba, vz_Ba = np.zeros(n_steps), np.zeros(n_steps), np.zeros(n_steps)\n",
    "vx_Bb, vy_Bb, vz_Bb = np.zeros(n_steps), np.zeros(n_steps), np.zeros(n_steps)\n",
    "\n",
    "x_transits = []\n",
    "y_transits = []\n",
    "\n",
    "flux_A = np.zeros(n_steps)\n",
    "\n",
    "\n",
    "Ba, Bb, A = sim.particles\n",
    "\n",
    "for i, t in enumerate(times):\n",
    "    sim.integrate(t)\n",
    "\n",
    "    # Calculate the CoM of Ba and Bb\n",
    "    comB = sim.calculate_com(first=0, last=2)     \n",
    "    pos_comB = np.array([comB.x, comB.y, comB.z])\n",
    "    v_comB = np.array([comB.vx, comB.vy, comB.vz])\n",
    "    \n",
    "    # Recenter all components so the CoM of BaBb is at the origin\n",
    "    x_Ba[i], y_Ba[i], z_Ba[i] = np.array([Ba.x, Ba.y, Ba.z]) - pos_comB\n",
    "    x_Bb[i], y_Bb[i], z_Bb[i] = np.array([Bb.x, Bb.y, Bb.z]) - pos_comB\n",
    "    vx_Ba[i], vy_Ba[i], vz_Ba[i] = np.array([Ba.vx, Ba.vy, Ba.vz]) - v_comB\n",
    "    vx_Bb[i], vy_Bb[i], vz_Bb[i] = np.array([Bb.vx, Bb.vy, Bb.vz]) - v_comB\n",
    "    \n",
    "    x_A[i], y_A[i], z_A[i] = np.array([A.x, A.y, A.z]) - pos_comB\n",
    "    vx_A[i], vy_A[i], vz_A[i] = np.array([A.vx, A.vy, A.vz]) - v_comB\n",
    "    \n",
    "    # Rotate disk and A to y=0 to determine when transit is happening     \n",
    "    x, y = x_A[i], y_A[i]\n",
    "    r = (x**2 + y**2)**0.5      # x=r, y=0 after rotation\n",
    "    theta = np.arctan(y/x)\n",
    "        \n",
    "    phi = pos_disk - theta    # effective position angle of disk (in relation to A)\n",
    "    \n",
    "    F_inner = (a_inner**2)*(b_inner**2)\n",
    "    F_outer = (a_outer**2)*(b_outer**2)\n",
    "    A_inner =  (a_inner**2)*(np.sin(phi)**2) + (b_inner**2)*(np.cos(phi)**2)\n",
    "    A_outer =  (a_outer**2)*(np.sin(phi)**2) + (b_outer**2)*(np.cos(phi)**2)\n",
    "    \n",
    "    \n",
    "    x_inner2 =  (F_inner/A_inner)**0.5\n",
    "    x_outer2 = (F_outer/A_outer)**0.5\n",
    "        \n",
    "    # Calculate distance to particle in disk plane\n",
    "    yp = r*np.cos(phi)/np.cos(inc_disk)\n",
    "    xp = r*np.sin(phi)\n",
    "    rp = (xp**2 + yp**2)**0.5\n",
    "    \n",
    "    r0 = abs(x_inner2*np.sin(phi))\n",
    "\n",
    "    tau_disk = 0.5*r0/rp\n",
    "    \n",
    "    # Calculating flux during transit\n",
    "    fA_t = fA_i*np.exp(-tau_disk)   \n",
    "\n",
    "    if x_inner2 < r < x_outer2:\n",
    "        x_transits.append(x_A[i])\n",
    "        y_transits.append(y_A[i])\n",
    "        flux_A[i] = fA_t\n",
    "    else:\n",
    "        flux_A[i] = fA_i\n",
    "        \n",
    "    "
   ]
  },
  {
   "cell_type": "code",
   "execution_count": 10,
   "id": "21137c95",
   "metadata": {},
   "outputs": [
    {
     "data": {
      "text/plain": [
       "<matplotlib.legend.Legend at 0x7fec2b95bc10>"
      ]
     },
     "execution_count": 10,
     "metadata": {},
     "output_type": "execute_result"
    },
    {
     "data": {
      "image/png": "[encoded data removed]",
      "text/plain": [
       "<Figure size 576x576 with 1 Axes>"
      ]
     },
     "metadata": {
      "needs_background": "light"
     },
     "output_type": "display_data"
    }
   ],
   "source": [
    "# Make 2D plot\n",
    "fig1 = plt.figure(1, figsize=(8,8))\n",
    "\n",
    "plt.plot(x_A, y_A, 'r.', alpha = 0.5, markersize=2, label='A', figure=fig1)\n",
    "plt.plot(x_Ba, y_Ba, 'g.', alpha = 0.5, markersize=2, label='Ba', figure=fig1)\n",
    "plt.plot(x_Bb, y_Bb, 'y.', alpha = 0.5, markersize=2, label='Bb', figure=fig1)\n",
    "plt.plot(x_transits, y_transits, 'b.', markersize=5, label = 'Transit', figure=fig1)\n",
    "\n",
    "plt.plot(x_inner, y_inner, 'k', alpha=0.3)\n",
    "plt.plot(x_outer, y_outer, 'k', alpha=0.3)\n",
    "plt.xlim(-5,5)\n",
    "plt.ylim(-5,5)\n",
    "plt.xlabel('x [AU]')\n",
    "plt.ylabel('y [AU]')\n",
    "plt.legend()"
   ]
  },
  {
   "cell_type": "code",
   "execution_count": 10,
   "id": "9a02342c",
   "metadata": {},
   "outputs": [
    {
     "data": {
      "text/plain": [
       "<matplotlib.legend.Legend at 0x116e57a00>"
      ]
     },
     "execution_count": 10,
     "metadata": {},
     "output_type": "execute_result"
    },
    {
     "data": {
      "image/png": "[encoded data removed]",
      "text/plain": [
       "<Figure size 576x576 with 1 Axes>"
      ]
     },
     "metadata": {
      "needs_background": "light"
     },
     "output_type": "display_data"
    }
   ],
   "source": [
    "# Plot lightcurve during transit\n",
    "fig2 = plt.figure(2, figsize=(8,8))\n",
    "\n",
    "plt.plot(times, flux_A, label = 'A', figure=fig2)\n",
    "plt.xlabel(\"Time (days)\")\n",
    "plt.ylabel(\"Flux\")\n",
    "plt.xlim(0,6000)\n",
    "plt.ylim(0.5,)\n",
    "plt.legend()"
   ]
  },
  {
   "cell_type": "code",
   "execution_count": null,
   "id": "cabfa308",
   "metadata": {},
   "outputs": [],
   "source": []
  },
  {
   "cell_type": "code",
   "execution_count": null,
   "id": "a17e31fc",
   "metadata": {},
   "outputs": [],
   "source": []
  }
 ],
 "metadata": {
  "kernelspec": {
   "display_name": "Python 3",
   "language": "python",
   "name": "python3"
  },
  "language_info": {
   "codemirror_mode": {
    "name": "ipython",
    "version": 3
   },
   "file_extension": ".py",
   "mimetype": "text/x-python",
   "name": "python",
   "nbconvert_exporter": "python",
   "pygments_lexer": "ipython3",
   "version": "3.6.8"
  }
 },
 "nbformat": 4,
 "nbformat_minor": 5
}
